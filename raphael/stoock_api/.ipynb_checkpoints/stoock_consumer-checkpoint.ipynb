{
 "cells": [
  {
   "cell_type": "code",
   "execution_count": null,
   "id": "6175f5a6-0893-487b-8802-4812d720cc30",
   "metadata": {},
   "outputs": [],
   "source": [
    "from kafka import KafkaConsumer\n",
    "\n",
    "# In this example we will illustrate a simple producer-consumer integration\n",
    "\n",
    "bootstrapServers = \"course-kafka:9092\"\n",
    "topic3 = 'stook'\n",
    "\n",
    "# First we set the consumer,\n",
    "consumer = KafkaConsumer(topic3,bootstrap_servers=bootstrapServers)\n",
    "\n",
    "# print the value of the consumer\n",
    "# we run the consumer to fetch the message scoming from topic1.\n",
    "for message in consumer:\n",
    "    print(str(message.value))"
   ]
  }
 ],
 "metadata": {
  "kernelspec": {
   "display_name": "Python 3 (ipykernel)",
   "language": "python",
   "name": "python3"
  },
  "language_info": {
   "codemirror_mode": {
    "name": "ipython",
    "version": 3
   },
   "file_extension": ".py",
   "mimetype": "text/x-python",
   "name": "python",
   "nbconvert_exporter": "python",
   "pygments_lexer": "ipython3",
   "version": "3.10.7"
  }
 },
 "nbformat": 4,
 "nbformat_minor": 5
}
