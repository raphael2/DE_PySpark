{
 "cells": [
  {
   "cell_type": "code",
   "execution_count": null,
   "id": "d0b2c776-ac57-4dd1-ab08-c293dae09a59",
   "metadata": {},
   "outputs": [],
   "source": [
    "stook_producer.py\n",
    "'''\n",
    "https://rapidapi.com/mpeng/api/stock-and-options-trading-data-provider/\n",
    "'''\n",
    "\n",
    "import json\n",
    "import requests\n",
    "from kafka import KafkaProducer\n",
    "topic3 = 'stook'\n",
    "brokers = \"course-kafka:9092\"\n",
    "\n",
    "url = \"https://stock-and-options-trading-data-provider.p.rapidapi.com/options/aapl\"\n",
    "\n",
    "headers = {\n",
    "\t\"X-RapidAPI-Proxy-Secret\": \"a755b180-f5a9-11e9-9f69-7bf51e845926\",\n",
    "\t\"X-RapidAPI-Key\": \"5f7df78670msh470977d57fc0e58p1bfd80jsnaa924711be5b\",\n",
    "\t\"X-RapidAPI-Host\": \"stock-and-options-trading-data-provider.p.rapidapi.com\"\n",
    "}\n",
    "\n",
    "response = requests.request(\"GET\", url, headers=headers)\n",
    "row = response.json()\n",
    "print(response.text)\n",
    "\n",
    "producer = KafkaProducer(\n",
    "\tbootstrap_servers=brokers,\n",
    "\tclient_id='producer',\n",
    "\tacks=1,\n",
    "\tcompression_type=None,\n",
    "\tretries=3,\n",
    "\treconnect_backoff_ms=50,\n",
    "\treconnect_backoff_max_ms=1000,\n",
    "\tvalue_serializer=lambda v: json.dumps(row).encode('utf-8'))\n",
    "\n",
    "producer = KafkaProducer(bootstrap_servers=brokers)\n",
    "producer.send(topic=topic3, value=json.dumps(row).encode('utf-8'))\n",
    "producer.flush()"
   ]
  }
 ],
 "metadata": {
  "kernelspec": {
   "display_name": "Python 3 (ipykernel)",
   "language": "python",
   "name": "python3"
  },
  "language_info": {
   "codemirror_mode": {
    "name": "ipython",
    "version": 3
   },
   "file_extension": ".py",
   "mimetype": "text/x-python",
   "name": "python",
   "nbconvert_exporter": "python",
   "pygments_lexer": "ipython3",
   "version": "3.10.7"
  }
 },
 "nbformat": 4,
 "nbformat_minor": 5
}
