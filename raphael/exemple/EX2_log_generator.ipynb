{
 "cells": [
  {
   "cell_type": "code",
   "execution_count": null,
   "id": "edcc0fc1-57df-48a7-adf7-9125fae9f119",
   "metadata": {},
   "outputs": [],
   "source": [
    "from random import randint, random\n",
    "from os import getcwd, remove\n",
    "from time import time, sleep\n",
    "from datetime import datetime\n",
    "\n",
    "# This generator yields 3-tuples of the form (counter, hostname, ts).\n",
    "\n",
    "def event_generator():\n",
    "    counter = 1\n",
    "    while True:\n",
    "        hostname = f'host{randint(1, 5)}'\n",
    "        ts = datetime.now().strftime('%a %b %d %H:%M:%S %Y')\n",
    "        print(counter, hostname, ts)\n",
    "        yield counter, hostname, ts\n",
    "        counter += 1\n",
    "\n",
    "\n",
    "\n",
    "log_path = '/home/developer/kafka/srcFiles/srcFile.log'\n",
    "with open(log_path, 'w') as f:\n",
    "    for counter, hostname, ts in event_generator():\n",
    "        f.write(f'Event #{counter}|{hostname}|{ts}\\n')\n",
    "        sleep(5*random())\n",
    "        f.flush()\n",
    "\n",
    "\n",
    "\n",
    "\n",
    "# Optionally, one would like to clear the log file once in a while...\n",
    "# remove(log_path)"
   ]
  }
 ],
 "metadata": {
  "kernelspec": {
   "display_name": "Python 3 (ipykernel)",
   "language": "python",
   "name": "python3"
  },
  "language_info": {
   "codemirror_mode": {
    "name": "ipython",
    "version": 3
   },
   "file_extension": ".py",
   "mimetype": "text/x-python",
   "name": "python",
   "nbconvert_exporter": "python",
   "pygments_lexer": "ipython3",
   "version": "3.10.7"
  }
 },
 "nbformat": 4,
 "nbformat_minor": 5
}
