{
 "cells": [
  {
   "cell_type": "code",
   "execution_count": null,
   "id": "6823ea40-7fd1-41e2-9b33-65d3047758e3",
   "metadata": {},
   "outputs": [],
   "source": [
    "from kafka import KafkaProducer\n",
    "\n",
    "from time import sleep\n",
    "import json\n",
    "# Topics/Brokers\n",
    "\n",
    "topic2 = 'kafka-tst-02'\n",
    "brokers = [\"course-kafka:9092\"]\n",
    "\n",
    "source_file = '/home/developer/kafka/srcFiles/srcFile.log'\n",
    "\n",
    "# First we set the producer.\n",
    "producer = KafkaProducer(\n",
    "    bootstrap_servers = brokers,\n",
    "    client_id = 'producer',\n",
    "    acks = 1,\n",
    "    compression_type = None,\n",
    "    retries = 3,\n",
    "    reconnect_backoff_ms = 50,\n",
    "    reconnect_backoff_max_ms= 1000)\n",
    "\n",
    "\n",
    "# Send the data\n",
    "with open(source_file, 'r') as f:\n",
    "    while True:\n",
    "        lines = f.readlines()  # returns list of strings\n",
    "        # print(lines)\n",
    "        if not lines:\n",
    "            sleep(1)\n",
    "            f.seek(f.tell())\n",
    "        else:\n",
    "            print(lines)\n",
    "            producer.send(topic=topic2, value=json.dumps(lines).encode('utf-8'))\n",
    "            # producer.send(topic=topic2, value=json.dumps(lines).encode('utf-8'))\n",
    "            producer.flush()\n",
    "            sleep(3)\n",
    "        # print(f.tell())"
   ]
  }
 ],
 "metadata": {
  "kernelspec": {
   "display_name": "Python 3 (ipykernel)",
   "language": "python",
   "name": "python3"
  },
  "language_info": {
   "codemirror_mode": {
    "name": "ipython",
    "version": 3
   },
   "file_extension": ".py",
   "mimetype": "text/x-python",
   "name": "python",
   "nbconvert_exporter": "python",
   "pygments_lexer": "ipython3",
   "version": "3.10.7"
  }
 },
 "nbformat": 4,
 "nbformat_minor": 5
}
