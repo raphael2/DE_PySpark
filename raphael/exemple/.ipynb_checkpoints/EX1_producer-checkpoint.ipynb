{
 "cells": [
  {
   "cell_type": "code",
   "execution_count": 1,
   "id": "e5ab495e-1cb0-42de-9ea3-6078eb22498d",
   "metadata": {},
   "outputs": [],
   "source": [
    "from kafka import KafkaProducer\n",
    "\n",
    "from time import sleep\n",
    "\n",
    "# Topics/Brokers\n",
    "topic= 'kafka-tst-07'\n",
    "brokers = \"course-kafka:9092\"\n",
    "\n",
    "\n",
    "producer = KafkaProducer(bootstrap_servers=brokers)\n",
    "\n",
    "# The send() method creates the topic\n",
    "producer.send(topic, value=b'Hello, World!!!!')\n",
    "producer.flush()\n",
    "\n",
    "# # One more example\n",
    "producer.send(topic, key=b'event#2', value=b'This is a Kafka-Python basic tutorial')\n",
    "producer.flush()"
   ]
  },
  {
   "cell_type": "code",
   "execution_count": null,
   "id": "f96cccb1-cfab-4785-b2f2-ac590a3084ea",
   "metadata": {},
   "outputs": [],
   "source": []
  },
  {
   "cell_type": "code",
   "execution_count": null,
   "id": "ab59caee-d697-4f49-8fa5-2d6ee0f008fe",
   "metadata": {},
   "outputs": [],
   "source": []
  }
 ],
 "metadata": {
  "kernelspec": {
   "display_name": "Python 3 (ipykernel)",
   "language": "python",
   "name": "python3"
  },
  "language_info": {
   "codemirror_mode": {
    "name": "ipython",
    "version": 3
   },
   "file_extension": ".py",
   "mimetype": "text/x-python",
   "name": "python",
   "nbconvert_exporter": "python",
   "pygments_lexer": "ipython3",
   "version": "3.10.7"
  }
 },
 "nbformat": 4,
 "nbformat_minor": 5
}
