{
 "cells": [
  {
   "cell_type": "code",
   "execution_count": null,
   "id": "7c572daf-de2f-4ddb-ba0b-3d6c35006f44",
   "metadata": {},
   "outputs": [],
   "source": [
    "from kafka import KafkaConsumer\n",
    "from datetime import datetime\n",
    "\n",
    "# In this example we will illustrate a simple producer-consumer integration\n",
    "topic3 = 'kafka-tst-07'\n",
    "brokers = \"course-kafka:9092\"\n",
    "\n",
    "# First we set the consumer, and we use the KafkaConsumer class to create a generator of the messages.\n",
    "consumer = KafkaConsumer(topic3,bootstrap_servers=brokers)\n",
    "\n",
    "for message in consumer:\n",
    "    dt_object = datetime.fromtimestamp(message.timestamp/1000)\n",
    "    print(\"the value is: \" ,str(message.value))\n",
    "    print(\"the offset is: \",str(message.offset))\n",
    "    print(\"the time is: \",dt_object)"
   ]
  },
  {
   "cell_type": "code",
   "execution_count": null,
   "id": "47247954-a577-42d5-9f1f-ef87360537d7",
   "metadata": {},
   "outputs": [],
   "source": []
  }
 ],
 "metadata": {
  "kernelspec": {
   "display_name": "Python 3 (ipykernel)",
   "language": "python",
   "name": "python3"
  },
  "language_info": {
   "codemirror_mode": {
    "name": "ipython",
    "version": 3
   },
   "file_extension": ".py",
   "mimetype": "text/x-python",
   "name": "python",
   "nbconvert_exporter": "python",
   "pygments_lexer": "ipython3",
   "version": "3.10.7"
  }
 },
 "nbformat": 4,
 "nbformat_minor": 5
}
