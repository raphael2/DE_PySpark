{
 "cells": [
  {
   "cell_type": "code",
   "execution_count": null,
   "id": "6823ea40-7fd1-41e2-9b33-65d3047758e3",
   "metadata": {},
   "outputs": [],
   "source": [
    "'''\n",
    "In this example we will monitor a log file and write its content the messages to a different target file. The pipeline is as follows:\n",
    "1. An external generator (implemented by the log_generator notebook) will write logs to a log file.\n",
    "2. A Kafka producer will monitor the log file and send to Kafka every new data.\n",
    "3. A kafka consumer will consume the messages and write them to a destination file.\n",
    "'''\n",
    "from kafka import KafkaConsumer\n",
    "\n",
    "# In this example we will illustrate a simple producer-consumer integration\n",
    "\n",
    "topic2 = 'kafka-tst-02'\n",
    "brokers = [\"course-kafka:9092\"]\n",
    "target_file = '/home/developer/kafka/sinkFiles/tarFile.log'\n",
    "\n",
    "# First we set the consumer, and we use the KafkaConsumer class to create a generator of the messages.\n",
    "consumer = KafkaConsumer(\n",
    "    topic2,\n",
    "    group_id='File2File',\n",
    "    bootstrap_servers=brokers,\n",
    "    auto_commit_interval_ms=1000)\n",
    "\n",
    "# Write the data to target file\n",
    "with open(target_file, 'w') as f:\n",
    "    for message in consumer:\n",
    "        print(message.value)\n",
    "        f.write(format(message.value))\n",
    "        f.flush()"
   ]
  }
 ],
 "metadata": {
  "kernelspec": {
   "display_name": "Python 3 (ipykernel)",
   "language": "python",
   "name": "python3"
  },
  "language_info": {
   "codemirror_mode": {
    "name": "ipython",
    "version": 3
   },
   "file_extension": ".py",
   "mimetype": "text/x-python",
   "name": "python",
   "nbconvert_exporter": "python",
   "pygments_lexer": "ipython3",
   "version": "3.10.7"
  }
 },
 "nbformat": 4,
 "nbformat_minor": 5
}
