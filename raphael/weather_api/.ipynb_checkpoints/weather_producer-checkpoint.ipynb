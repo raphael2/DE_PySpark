{
 "cells": [
  {
   "cell_type": "code",
   "execution_count": 5,
   "id": "7862a5cd-fa6b-4a00-8df5-cc3279efa4bd",
   "metadata": {},
   "outputs": [
    {
     "name": "stdout",
     "output_type": "stream",
     "text": [
      "{\"lat\":\"34.76699522522098N\",\"lon\":\"32.08215441406462E\",\"elevation\":0,\"timezone\":\"Etc/GMT-2\",\"units\":\"metric\",\"data\":[{\"date\":\"2024-08-24T00:00:00\",\"weather\":\"mostly_sunny\",\"summary\":\"Mostly sunny\",\"icon\":3,\"temperature\":27.8,\"feels_like\":32.4,\"wind_chill\":29.9,\"dew_point\":22.2,\"wind\":{\"speed\":2.1,\"gusts\":3.1,\"angle\":316,\"dir\":\"NW\"},\"cloud_cover\":12,\"pressure\":1008,\"precipitation\":{\"total\":0.0,\"type\":\"none\"},\"ozone\":296,\"humidity\":71.0},{\"date\":\"2024-08-24T01:00:00\",\"weather\":\"sunny\",\"summary\":\"Sunny\",\"icon\":2,\"temperature\":27.7,\"feels_like\":33.2,\"wind_chill\":29.8,\"dew_point\":22.3,\"wind\":{\"speed\":1.3,\"gusts\":3.6,\"angle\":287,\"dir\":\"WNW\"},\"cloud_cover\":6,\"pressure\":1007,\"precipitation\":{\"total\":0.0,\"type\":\"none\"},\"ozone\":295,\"humidity\":72.0},{\"date\":\"2024-08-24T02:00:00\",\"weather\":\"sunny\",\"summary\":\"Sunny\",\"icon\":2,\"temperature\":27.5,\"feels_like\":33.2,\"wind_chill\":29.7,\"dew_point\":22.5,\"wind\":{\"speed\":1.5,\"gusts\":3.6,\"angle\":254,\"dir\":\"WSW\"},\"cloud_cover\":1,\"pressure\":1007,\"precipitation\":{\"total\":0.0,\"type\":\"none\"},\"ozone\":296,\"humidity\":74.0},{\"date\":\"2024-08-24T03:00:00\",\"weather\":\"sunny\",\"summary\":\"Sunny\",\"icon\":2,\"temperature\":27.5,\"feels_like\":33.0,\"wind_chill\":29.6,\"dew_point\":22.5,\"wind\":{\"speed\":1.7,\"gusts\":3.5,\"angle\":236,\"dir\":\"WSW\"},\"cloud_cover\":0,\"pressure\":1007,\"precipitation\":{\"total\":0.0,\"type\":\"none\"},\"ozone\":296,\"humidity\":74.0},{\"date\":\"2024-08-24T04:00:00\",\"weather\":\"sunny\",\"summary\":\"Sunny\",\"icon\":2,\"temperature\":27.4,\"feels_like\":32.7,\"wind_chill\":29.5,\"dew_point\":22.6,\"wind\":{\"speed\":1.9,\"gusts\":3.8,\"angle\":224,\"dir\":\"SW\"},\"cloud_cover\":0,\"pressure\":1007,\"precipitation\":{\"total\":0.0,\"type\":\"none\"},\"ozone\":296,\"humidity\":74.0},{\"date\":\"2024-08-24T05:00:00\",\"weather\":\"sunny\",\"summary\":\"Sunny\",\"icon\":2,\"temperature\":27.4,\"feels_like\":32.6,\"wind_chill\":29.4,\"dew_point\":22.7,\"wind\":{\"speed\":2.1,\"gusts\":4.0,\"angle\":249,\"dir\":\"WSW\"},\"cloud_cover\":2,\"pressure\":1007,\"precipitation\":{\"total\":0.0,\"type\":\"none\"},\"ozone\":296,\"humidity\":75.0},{\"date\":\"2024-08-24T06:00:00\",\"weather\":\"partly_sunny\",\"summary\":\"Partly sunny\",\"icon\":4,\"temperature\":27.4,\"feels_like\":31.1,\"wind_chill\":29.4,\"dew_point\":22.7,\"wind\":{\"speed\":2.9,\"gusts\":4.0,\"angle\":277,\"dir\":\"W\"},\"cloud_cover\":47,\"pressure\":1008,\"precipitation\":{\"total\":0.0,\"type\":\"none\"},\"ozone\":296,\"humidity\":75.0},{\"date\":\"2024-08-24T07:00:00\",\"weather\":\"partly_sunny\",\"summary\":\"Partly sunny\",\"icon\":4,\"temperature\":27.4,\"feels_like\":31.5,\"wind_chill\":29.5,\"dew_point\":22.7,\"wind\":{\"speed\":2.5,\"gusts\":3.5,\"angle\":275,\"dir\":\"W\"},\"cloud_cover\":42,\"pressure\":1008,\"precipitation\":{\"total\":0.0,\"type\":\"none\"},\"ozone\":296,\"humidity\":75.0},{\"date\":\"2024-08-24T08:00:00\",\"weather\":\"sunny\",\"summary\":\"Sunny\",\"icon\":2,\"temperature\":27.6,\"feels_like\":32.8,\"wind_chill\":29.7,\"dew_point\":22.5,\"wind\":{\"speed\":1.9,\"gusts\":3.6,\"angle\":233,\"dir\":\"SW\"},\"cloud_cover\":3,\"pressure\":1008,\"precipitation\":{\"total\":0.0,\"type\":\"none\"},\"ozone\":297,\"humidity\":73.0},{\"date\":\"2024-08-24T09:00:00\",\"weather\":\"sunny\",\"summary\":\"Sunny\",\"icon\":2,\"temperature\":27.7,\"feels_like\":32.6,\"wind_chill\":29.8,\"dew_point\":22.7,\"wind\":{\"speed\":2.5,\"gusts\":4.3,\"angle\":236,\"dir\":\"WSW\"},\"cloud_cover\":0,\"pressure\":1008,\"precipitation\":{\"total\":0.0,\"type\":\"none\"},\"ozone\":297,\"humidity\":74.0},{\"date\":\"2024-08-24T10:00:00\",\"weather\":\"sunny\",\"summary\":\"Sunny\",\"icon\":2,\"temperature\":27.7,\"feels_like\":32.0,\"wind_chill\":29.8,\"dew_point\":22.8,\"wind\":{\"speed\":3.3,\"gusts\":4.5,\"angle\":256,\"dir\":\"WSW\"},\"cloud_cover\":1,\"pressure\":1008,\"precipitation\":{\"total\":0.0,\"type\":\"none\"},\"ozone\":295,\"humidity\":74.0},{\"date\":\"2024-08-24T11:00:00\",\"weather\":\"mostly_sunny\",\"summary\":\"Mostly sunny\",\"icon\":3,\"temperature\":27.9,\"feels_like\":32.2,\"wind_chill\":30.0,\"dew_point\":23.0,\"wind\":{\"speed\":3.3,\"gusts\":4.4,\"angle\":268,\"dir\":\"W\"},\"cloud_cover\":11,\"pressure\":1008,\"precipitation\":{\"total\":0.0,\"type\":\"none\"},\"ozone\":294,\"humidity\":74.0},{\"date\":\"2024-08-24T12:00:00\",\"weather\":\"sunny\",\"summary\":\"Sunny\",\"icon\":2,\"temperature\":28.4,\"feels_like\":33.6,\"wind_chill\":30.6,\"dew_point\":23.7,\"wind\":{\"speed\":2.6,\"gusts\":4.0,\"angle\":300,\"dir\":\"WNW\"},\"cloud_cover\":1,\"pressure\":1007,\"precipitation\":{\"total\":0.0,\"type\":\"none\"},\"ozone\":294,\"humidity\":75.0},{\"date\":\"2024-08-24T13:00:00\",\"weather\":\"sunny\",\"summary\":\"Sunny\",\"icon\":2,\"temperature\":28.6,\"feels_like\":33.9,\"wind_chill\":30.9,\"dew_point\":23.8,\"wind\":{\"speed\":2.8,\"gusts\":3.7,\"angle\":282,\"dir\":\"WNW\"},\"cloud_cover\":0,\"pressure\":1007,\"precipitation\":{\"total\":0.0,\"type\":\"none\"},\"ozone\":294,\"humidity\":75.0},{\"date\":\"2024-08-24T14:00:00\",\"weather\":\"sunny\",\"summary\":\"Sunny\",\"icon\":2,\"temperature\":28.7,\"feels_like\":33.6,\"wind_chill\":31.0,\"dew_point\":24.1,\"wind\":{\"speed\":3.5,\"gusts\":3.9,\"angle\":261,\"dir\":\"W\"},\"cloud_cover\":0,\"pressure\":1007,\"precipitation\":{\"total\":0.0,\"type\":\"none\"},\"ozone\":294,\"humidity\":75.0},{\"date\":\"2024-08-24T15:00:00\",\"weather\":\"sunny\",\"summary\":\"Sunny\",\"icon\":2,\"temperature\":28.9,\"feels_like\":33.2,\"wind_chill\":31.2,\"dew_point\":24.5,\"wind\":{\"speed\":4.7,\"gusts\":5.3,\"angle\":244,\"dir\":\"WSW\"},\"cloud_cover\":0,\"pressure\":1006,\"precipitation\":{\"total\":0.0,\"type\":\"none\"},\"ozone\":295,\"humidity\":77.0},{\"date\":\"2024-08-24T16:00:00\",\"weather\":\"sunny\",\"summary\":\"Sunny\",\"icon\":2,\"temperature\":28.9,\"feels_like\":32.6,\"wind_chill\":31.3,\"dew_point\":24.9,\"wind\":{\"speed\":5.9,\"gusts\":6.5,\"angle\":241,\"dir\":\"WSW\"},\"cloud_cover\":0,\"pressure\":1006,\"precipitation\":{\"total\":0.0,\"type\":\"none\"},\"ozone\":296,\"humidity\":79.0},{\"date\":\"2024-08-24T17:00:00\",\"weather\":\"sunny\",\"summary\":\"Sunny\",\"icon\":2,\"temperature\":28.9,\"feels_like\":32.3,\"wind_chill\":31.3,\"dew_point\":25.1,\"wind\":{\"speed\":6.5,\"gusts\":6.6,\"angle\":245,\"dir\":\"WSW\"},\"cloud_cover\":0,\"pressure\":1006,\"precipitation\":{\"total\":0.0,\"type\":\"none\"},\"ozone\":296,\"humidity\":80.0},{\"date\":\"2024-08-24T18:00:00\",\"weather\":\"sunny\",\"summary\":\"Sunny\",\"icon\":2,\"temperature\":29.0,\"feels_like\":32.6,\"wind_chill\":31.3,\"dew_point\":25.4,\"wind\":{\"speed\":6.4,\"gusts\":6.3,\"angle\":254,\"dir\":\"WSW\"},\"cloud_cover\":0,\"pressure\":1006,\"precipitation\":{\"total\":0.0,\"type\":\"none\"},\"ozone\":297,\"humidity\":81.0},{\"date\":\"2024-08-24T19:00:00\",\"weather\":\"sunny\",\"summary\":\"Sunny\",\"icon\":2,\"temperature\":28.9,\"feels_like\":32.9,\"wind_chill\":31.2,\"dew_point\":25.6,\"wind\":{\"speed\":5.8,\"gusts\":5.4,\"angle\":262,\"dir\":\"W\"},\"cloud_cover\":0,\"pressure\":1006,\"precipitation\":{\"total\":0.0,\"type\":\"none\"},\"ozone\":297,\"humidity\":82.0},{\"date\":\"2024-08-24T20:00:00\",\"weather\":\"sunny\",\"summary\":\"Sunny\",\"icon\":2,\"temperature\":28.7,\"feels_like\":33.5,\"wind_chill\":31.0,\"dew_point\":25.9,\"wind\":{\"speed\":5.1,\"gusts\":6.4,\"angle\":266,\"dir\":\"W\"},\"cloud_cover\":1,\"pressure\":1006,\"precipitation\":{\"total\":0.0,\"type\":\"none\"},\"ozone\":296,\"humidity\":84.0},{\"date\":\"2024-08-24T21:00:00\",\"weather\":\"sunny\",\"summary\":\"Sunny\",\"icon\":2,\"temperature\":28.6,\"feels_like\":33.9,\"wind_chill\":30.9,\"dew_point\":26.0,\"wind\":{\"speed\":4.4,\"gusts\":5.7,\"angle\":268,\"dir\":\"W\"},\"cloud_cover\":0,\"pressure\":1006,\"precipitation\":{\"total\":0.0,\"type\":\"none\"},\"ozone\":296,\"humidity\":85.0},{\"date\":\"2024-08-24T22:00:00\",\"weather\":\"sunny\",\"summary\":\"Sunny\",\"icon\":2,\"temperature\":28.5,\"feels_like\":34.1,\"wind_chill\":30.7,\"dew_point\":26.0,\"wind\":{\"speed\":3.8,\"gusts\":4.9,\"angle\":272,\"dir\":\"W\"},\"cloud_cover\":6,\"pressure\":1006,\"precipitation\":{\"total\":0.0,\"type\":\"none\"},\"ozone\":296,\"humidity\":86.0},{\"date\":\"2024-08-24T23:00:00\",\"weather\":\"sunny\",\"summary\":\"Sunny\",\"icon\":2,\"temperature\":28.4,\"feels_like\":34.3,\"wind_chill\":30.7,\"dew_point\":26.0,\"wind\":{\"speed\":3.6,\"gusts\":4.5,\"angle\":262,\"dir\":\"W\"},\"cloud_cover\":0,\"pressure\":1006,\"precipitation\":{\"total\":0.0,\"type\":\"none\"},\"ozone\":296,\"humidity\":86.0}]}\n"
     ]
    },
    {
     "data": {
      "text/plain": [
       "'\"\\nclient id=client id should be used to distinguish each running app against kafka. \\nits a pass through to the logs. it should be set by every instance running for best fine grained monitoring, etc\\n\\nacks=1==The default value is 1, which means as long as the producer \\nreceives an ack from the leader broker of that topic, it would take it as \\na successful commit and continue with the next message. It’s not recommended to set acks=0, \\nbecause then you don’t get any guarantee on the commit\\n\\n\\nretries=The retries setting determines how many times the \\nproducer will attempt to send a message before marking it as failed.\\n\\nvalue_serializer=How to produce Kafka messages with JSON format in Python\\n\\nreconnect_backoff_ms=50\\nretry.backoff.ms is the time to wait before attempting to retry a failed request \\nto a given topic partition. This avoids repeatedly sending requests in a tight loop under some failure scenarios.\\n\\nreconnect_backoff_max_ms=1000\\nWhen the Kafka cluster goes down, the KafkaClient will try to reconnect \\nforever and will not fail after the reconnect_backoff_max_ms have elapsed.\\nExpected behavior: After reconnect_backoff_max_ms have elapsed, \\nthe client should fail / an exception should be thrown\\n\\n\\n\\n'"
      ]
     },
     "execution_count": 5,
     "metadata": {},
     "output_type": "execute_result"
    }
   ],
   "source": [
    "'''\n",
    "https://rapidapi.com/weatherbit/api/weather/\n",
    "'''\n",
    "\n",
    "import json\n",
    "import requests\n",
    "from kafka import KafkaProducer\n",
    "topic = 'Kafka-weather'\n",
    "brokers =\"course-kafka:9092\"\n",
    "\n",
    "\n",
    "##url = \"https://weatherbit-v1-mashape.p.rapidapi.com/current\"\n",
    "\n",
    "##querystring = {\"lon\":\"38.5\",\"lat\":\"-78.5\"}\n",
    "##headers = {\n",
    "##\t\"X-RapidAPI-Key\": \"5f7df78670msh470977d57fc0e58p1bfd80jsnaa924711be5b\",\n",
    "##\t\"X-RapidAPI-Host\": \"weatherbit-v1-mashape.p.rapidapi.com\"\n",
    "##}\n",
    "url = \"https://ai-weather-by-meteosource.p.rapidapi.com/time_machine\"\n",
    "querystring = {\"lat\":\"34.76699522522098\",\"lon\":\"32.08215441406462\",\"date\":\"2024-08-24\",\"units\":\"auto\"}\n",
    "\n",
    "headers = {\n",
    "\t\"x-rapidapi-key\": \"c330c19af3msh7c96967a61245f0p10e190jsna12a26b6a4c7\",\n",
    "\t\"x-rapidapi-host\": \"ai-weather-by-meteosource.p.rapidapi.com\"\n",
    "}\n",
    "\n",
    "\n",
    "response = requests.request(\"GET\", url, headers=headers, params=querystring)\n",
    "row = response.json()\n",
    "print(response.text)\n",
    "\n",
    "\n",
    "#########################################\n",
    "producer = KafkaProducer(\n",
    "\tbootstrap_servers=brokers,\n",
    "\tclient_id='producer',\n",
    "\n",
    "\tvalue_serializer=lambda v: json.dumps(row).encode('utf-8'))\n",
    "\n",
    "producer = KafkaProducer(bootstrap_servers=brokers)\n",
    "producer.send(topic=topic, value=json.dumps(row).encode('utf-8'))\n",
    "producer.flush()\n",
    "\n",
    "\"\"\"\"\n",
    "client id=client id should be used to distinguish each running app against kafka. \n",
    "its a pass through to the logs. it should be set by every instance running for best fine grained monitoring, etc\n",
    "\n",
    "acks=1==The default value is 1, which means as long as the producer \n",
    "receives an ack from the leader broker of that topic, it would take it as \n",
    "a successful commit and continue with the next message. It’s not recommended to set acks=0, \n",
    "because then you don’t get any guarantee on the commit\n",
    "\n",
    "\n",
    "retries=The retries setting determines how many times the \n",
    "producer will attempt to send a message before marking it as failed.\n",
    "\n",
    "value_serializer=How to produce Kafka messages with JSON format in Python\n",
    "\n",
    "reconnect_backoff_ms=50\n",
    "retry.backoff.ms is the time to wait before attempting to retry a failed request \n",
    "to a given topic partition. This avoids repeatedly sending requests in a tight loop under some failure scenarios.\n",
    "\n",
    "reconnect_backoff_max_ms=1000\n",
    "When the Kafka cluster goes down, the KafkaClient will try to reconnect \n",
    "forever and will not fail after the reconnect_backoff_max_ms have elapsed.\n",
    "Expected behavior: After reconnect_backoff_max_ms have elapsed, \n",
    "the client should fail / an exception should be thrown\n",
    "\n",
    "\n",
    "\n",
    "\"\"\""
   ]
  },
  {
   "cell_type": "code",
   "execution_count": null,
   "id": "5ec882a8-adaa-4528-8d83-a1e7454cf80d",
   "metadata": {},
   "outputs": [],
   "source": []
  },
  {
   "cell_type": "code",
   "execution_count": null,
   "id": "1a2a8ecc-6c93-4af1-97bb-f916acfe5d27",
   "metadata": {},
   "outputs": [],
   "source": []
  }
 ],
 "metadata": {
  "kernelspec": {
   "display_name": "Python 3 (ipykernel)",
   "language": "python",
   "name": "python3"
  },
  "language_info": {
   "codemirror_mode": {
    "name": "ipython",
    "version": 3
   },
   "file_extension": ".py",
   "mimetype": "text/x-python",
   "name": "python",
   "nbconvert_exporter": "python",
   "pygments_lexer": "ipython3",
   "version": "3.10.7"
  }
 },
 "nbformat": 4,
 "nbformat_minor": 5
}
